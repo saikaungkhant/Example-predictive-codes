{
 "cells": [
  {
   "cell_type": "code",
   "execution_count": 1,
   "id": "5df44ebc",
   "metadata": {},
   "outputs": [
    {
     "name": "stdout",
     "output_type": "stream",
     "text": [
      "Requirement already satisfied: holidays in c:\\users\\saika\\anaconda3\\lib\\site-packages (0.48)\n",
      "Requirement already satisfied: python-dateutil in c:\\users\\saika\\anaconda3\\lib\\site-packages (from holidays) (2.8.2)\n",
      "Requirement already satisfied: six>=1.5 in c:\\users\\saika\\anaconda3\\lib\\site-packages (from python-dateutil->holidays) (1.16.0)\n",
      "Note: you may need to restart the kernel to use updated packages.\n"
     ]
    }
   ],
   "source": [
    "pip install holidays"
   ]
  },
  {
   "cell_type": "code",
   "execution_count": 5,
   "id": "ee1823c8",
   "metadata": {},
   "outputs": [
    {
     "name": "stdout",
     "output_type": "stream",
     "text": [
      "   No       Date DateOfWeek  TotalNetSales  Forecast  \\\n",
      "0   1 2021-03-08        Mon         695.57     650.0   \n",
      "1   2 2021-03-09        Tue        1051.06     650.0   \n",
      "2   3 2021-03-10        Wed        1374.82     700.0   \n",
      "3   4 2021-03-11        Thu        1127.37     750.0   \n",
      "4   5 2021-03-12        Fri        2737.95    2000.0   \n",
      "\n",
      "   Variance (Net Sales - Last Year)  Is_Holiday Holiday_Name  \n",
      "0                            695.57           0               \n",
      "1                           1051.06           0               \n",
      "2                           1374.82           0               \n",
      "3                           1127.37           0               \n",
      "4                           2737.95           0               \n"
     ]
    }
   ],
   "source": [
    "import pandas as pd\n",
    "import holidays\n",
    "\n",
    "# Load the data with the correct encoding\n",
    "data = pd.read_csv('Combined_Sales_Data.csv', encoding='ISO-8859-1')\n",
    "\n",
    "# Create an instance of UK holidays\n",
    "uk_holidays = holidays.UK()\n",
    "\n",
    "# Define a function to apply to the 'Date' column for checking holidays\n",
    "def check_holiday(date):\n",
    "    return 1 if date in uk_holidays else 0\n",
    "\n",
    "def get_holiday_name(date):\n",
    "    return uk_holidays.get(date, \"\")\n",
    "\n",
    "# Convert 'Date' to datetime specifying the correct format\n",
    "data['Date'] = pd.to_datetime(data['Date'], format='%d/%m/%Y')\n",
    "\n",
    "# Apply the function to create the holiday indicator column\n",
    "data['Is_Holiday'] = data['Date'].apply(check_holiday)\n",
    "\n",
    "# Apply the function to create the holiday name column\n",
    "data['Holiday_Name'] = data['Date'].apply(get_holiday_name)\n",
    "\n",
    "# Save the updated DataFrame\n",
    "data.to_csv('Updated_Combined_Sales_Data.csv', index=False)\n",
    "\n",
    "print(data.head())  # Show the first few rows of the updated DataFrame\n"
   ]
  },
  {
   "cell_type": "code",
   "execution_count": 1,
   "id": "67108787",
   "metadata": {},
   "outputs": [
    {
     "name": "stdout",
     "output_type": "stream",
     "text": [
      "Collecting pulp\n",
      "  Downloading PuLP-2.8.0-py3-none-any.whl.metadata (5.4 kB)\n",
      "Downloading PuLP-2.8.0-py3-none-any.whl (17.7 MB)\n",
      "   ---------------------------------------- 0.0/17.7 MB ? eta -:--:--\n",
      "   ---------------------------------------- 0.0/17.7 MB 660.6 kB/s eta 0:00:27\n",
      "    --------------------------------------- 0.3/17.7 MB 4.2 MB/s eta 0:00:05\n",
      "   - -------------------------------------- 0.8/17.7 MB 7.0 MB/s eta 0:00:03\n",
      "   -- ------------------------------------- 1.2/17.7 MB 7.9 MB/s eta 0:00:03\n",
      "   ---- ----------------------------------- 1.8/17.7 MB 9.7 MB/s eta 0:00:02\n",
      "   ----- ---------------------------------- 2.5/17.7 MB 10.6 MB/s eta 0:00:02\n",
      "   ------- -------------------------------- 3.3/17.7 MB 12.2 MB/s eta 0:00:02\n",
      "   --------- ------------------------------ 4.2/17.7 MB 13.3 MB/s eta 0:00:02\n",
      "   ----------- ---------------------------- 5.0/17.7 MB 14.5 MB/s eta 0:00:01\n",
      "   ------------- -------------------------- 5.9/17.7 MB 15.6 MB/s eta 0:00:01\n",
      "   --------------- ------------------------ 7.0/17.7 MB 16.6 MB/s eta 0:00:01\n",
      "   ------------------ --------------------- 8.4/17.7 MB 17.8 MB/s eta 0:00:01\n",
      "   --------------------- ------------------ 9.7/17.7 MB 18.7 MB/s eta 0:00:01\n",
      "   ------------------------ --------------- 11.0/17.7 MB 23.4 MB/s eta 0:00:01\n",
      "   --------------------------- ------------ 12.2/17.7 MB 26.2 MB/s eta 0:00:01\n",
      "   ------------------------------ --------- 13.3/17.7 MB 28.5 MB/s eta 0:00:01\n",
      "   -------------------------------- ------- 14.5/17.7 MB 29.8 MB/s eta 0:00:01\n",
      "   ----------------------------------- ---- 15.7/17.7 MB 29.7 MB/s eta 0:00:01\n",
      "   ------------------------------------- -- 16.8/17.7 MB 31.2 MB/s eta 0:00:01\n",
      "   ---------------------------------------  17.7/17.7 MB 32.8 MB/s eta 0:00:01\n",
      "   ---------------------------------------- 17.7/17.7 MB 31.2 MB/s eta 0:00:00\n",
      "Installing collected packages: pulp\n",
      "Successfully installed pulp-2.8.0\n"
     ]
    }
   ],
   "source": [
    "!pip install pulp"
   ]
  },
  {
   "cell_type": "code",
   "execution_count": 2,
   "id": "456b4553",
   "metadata": {},
   "outputs": [
    {
     "name": "stdout",
     "output_type": "stream",
     "text": [
      "Collecting pymongo\n",
      "  Downloading pymongo-4.8.0-cp311-cp311-win_amd64.whl.metadata (22 kB)\n",
      "Collecting dnspython<3.0.0,>=1.16.0 (from pymongo)\n",
      "  Using cached dnspython-2.6.1-py3-none-any.whl.metadata (5.8 kB)\n",
      "Downloading pymongo-4.8.0-cp311-cp311-win_amd64.whl (630 kB)\n",
      "   ---------------------------------------- 0.0/631.0 kB ? eta -:--:--\n",
      "   -- ------------------------------------ 41.0/631.0 kB 991.0 kB/s eta 0:00:01\n",
      "   ---------------- ----------------------- 256.0/631.0 kB 3.2 MB/s eta 0:00:01\n",
      "   -------------------------------------- - 614.4/631.0 kB 5.5 MB/s eta 0:00:01\n",
      "   ---------------------------------------- 631.0/631.0 kB 4.4 MB/s eta 0:00:00\n",
      "Using cached dnspython-2.6.1-py3-none-any.whl (307 kB)\n",
      "Installing collected packages: dnspython, pymongo\n",
      "Successfully installed dnspython-2.6.1 pymongo-4.8.0\n"
     ]
    }
   ],
   "source": [
    "!pip install pymongo"
   ]
  },
  {
   "cell_type": "code",
   "execution_count": 3,
   "id": "459a9bff",
   "metadata": {},
   "outputs": [
    {
     "ename": "ValueError",
     "evalue": "day is out of range for month",
     "output_type": "error",
     "traceback": [
      "\u001b[1;31m---------------------------------------------------------------------------\u001b[0m",
      "\u001b[1;31mValueError\u001b[0m                                Traceback (most recent call last)",
      "Cell \u001b[1;32mIn[3], line 12\u001b[0m\n\u001b[0;32m     10\u001b[0m \u001b[38;5;28;01mfor\u001b[39;00m doc \u001b[38;5;129;01min\u001b[39;00m documents:\n\u001b[0;32m     11\u001b[0m     parts \u001b[38;5;241m=\u001b[39m doc[\u001b[38;5;124m'\u001b[39m\u001b[38;5;124mdate\u001b[39m\u001b[38;5;124m'\u001b[39m]\u001b[38;5;241m.\u001b[39msplit(\u001b[38;5;124m'\u001b[39m\u001b[38;5;124m/\u001b[39m\u001b[38;5;124m'\u001b[39m)\n\u001b[1;32m---> 12\u001b[0m     new_date \u001b[38;5;241m=\u001b[39m datetime(\u001b[38;5;28mint\u001b[39m(parts[\u001b[38;5;241m2\u001b[39m]), \u001b[38;5;28mint\u001b[39m(parts[\u001b[38;5;241m1\u001b[39m]), \u001b[38;5;28mint\u001b[39m(parts[\u001b[38;5;241m0\u001b[39m]))\u001b[38;5;241m.\u001b[39mstrftime(\u001b[38;5;124m'\u001b[39m\u001b[38;5;124m%\u001b[39m\u001b[38;5;124mY-\u001b[39m\u001b[38;5;124m%\u001b[39m\u001b[38;5;124mm-\u001b[39m\u001b[38;5;132;01m%d\u001b[39;00m\u001b[38;5;124m'\u001b[39m)  \u001b[38;5;66;03m# Convert to datetime object and format it\u001b[39;00m\n\u001b[0;32m     13\u001b[0m     collection\u001b[38;5;241m.\u001b[39mupdate_one({\u001b[38;5;124m'\u001b[39m\u001b[38;5;124m_id\u001b[39m\u001b[38;5;124m'\u001b[39m: doc[\u001b[38;5;124m'\u001b[39m\u001b[38;5;124m_id\u001b[39m\u001b[38;5;124m'\u001b[39m]}, {\u001b[38;5;124m'\u001b[39m\u001b[38;5;124m$set\u001b[39m\u001b[38;5;124m'\u001b[39m: {\u001b[38;5;124m'\u001b[39m\u001b[38;5;124mdate\u001b[39m\u001b[38;5;124m'\u001b[39m: new_date}})\n",
      "\u001b[1;31mValueError\u001b[0m: day is out of range for month"
     ]
    }
   ],
   "source": [
    "from pymongo import MongoClient\n",
    "from datetime import datetime\n",
    "\n",
    "client = MongoClient('mongodb://localhost:27017/')\n",
    "db = client['scheduling_db']\n",
    "collection = db['weather']\n",
    "\n",
    "documents = collection.find()\n",
    "\n",
    "for doc in documents:\n",
    "    parts = doc['date'].split('/')\n",
    "    new_date = datetime(int(parts[2]), int(parts[1]), int(parts[0])).strftime('%Y-%m-%d')  # Convert to datetime object and format it\n",
    "    collection.update_one({'_id': doc['_id']}, {'$set': {'date': new_date}})\n"
   ]
  },
  {
   "cell_type": "code",
   "execution_count": 6,
   "id": "eadbdfeb",
   "metadata": {},
   "outputs": [],
   "source": [
    "import pymongo\n",
    "from datetime import datetime\n",
    "\n",
    "# Connect to your MongoDB database\n",
    "client = pymongo.MongoClient(\"mongodb://localhost:27017/\")\n",
    "db = client.scheduling_db\n",
    "collection = db.forecast\n",
    "\n",
    "# Fetch the documents\n",
    "documents = collection.find()\n",
    "\n",
    "# Process each document\n",
    "for doc in documents:\n",
    "    date_str = doc['date']  # Assuming the date is stored under the 'date' field\n",
    "    try:\n",
    "        # Convert from DD/MM/YYYY to YYYY-MM-DD\n",
    "        dt = datetime.strptime(date_str, \"%d/%m/%Y\")\n",
    "        new_date_str = dt.strftime(\"%Y-%m-%d\")\n",
    "        \n",
    "        # Update the document in MongoDB\n",
    "        collection.update_one({'_id': doc['_id']}, {'$set': {'date': new_date_str}})\n",
    "    except ValueError as e:\n",
    "        print(f\"Error converting date for document {doc['_id']}: {e}\")\n",
    "\n",
    "# Close the MongoDB connection\n",
    "client.close()\n"
   ]
  }
 ],
 "metadata": {
  "kernelspec": {
   "display_name": "Python 3 (ipykernel)",
   "language": "python",
   "name": "python3"
  },
  "language_info": {
   "codemirror_mode": {
    "name": "ipython",
    "version": 3
   },
   "file_extension": ".py",
   "mimetype": "text/x-python",
   "name": "python",
   "nbconvert_exporter": "python",
   "pygments_lexer": "ipython3",
   "version": "3.11.7"
  }
 },
 "nbformat": 4,
 "nbformat_minor": 5
}
